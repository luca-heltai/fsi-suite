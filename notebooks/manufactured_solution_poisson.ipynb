{
 "cells": [
  {
   "attachments": {},
   "cell_type": "markdown",
   "metadata": {},
   "source": [
    "# Manufactured solutions for Poisson problem\n",
    "\n",
    "When solving numerically the Poisson problem, in mixed or primal form, \n",
    "\n",
    "$$\n",
    "-\\Delta u = f \n",
    "$$\n",
    "\n",
    "If we want to use these in input files for a deal.II parameter handler, we must replace the `**` with `^`, and we must write them in a\n",
    "format that deal.II understands. This is done in the following cells, where we\n",
    "first compute symbolically the differential operators, and then produce an\n",
    "output that is readable by deal.II."
   ]
  },
  {
   "cell_type": "code",
   "execution_count": 5,
   "metadata": {},
   "outputs": [],
   "source": [
    "from sympy import *\n",
    "import textwrap\n",
    "\n",
    "def to_prm(prefix, x):\n",
    "    text = str(x).replace('**', '^').replace('pi', 'PI')\n",
    "    start_len = len(prefix)\n",
    "    return ' \\\\\\n'.join(textwrap.wrap(prefix + text, 80-start_len, break_long_words=False, \n",
    "                                      subsequent_indent=' '*start_len))"
   ]
  },
  {
   "cell_type": "code",
   "execution_count": 6,
   "metadata": {},
   "outputs": [
    {
     "name": "stdout",
     "output_type": "stream",
     "text": [
      " set Exact solution = 2*PI*sin(2*PI*y)*cos(2*PI*x); \\\n",
      "                      2*PI*sin(2*PI*x)*cos(2*PI*y); \\\n",
      "                      sin(2*PI*x)*sin(2*PI*y)\n",
      " set Forcing term = 0; 0; 8*PI^2*sin(2*PI*x)*sin(2*PI*y)\n"
     ]
    }
   ],
   "source": [
    "# Spatial variables\n",
    "x,y = symbols('x y')\n",
    "\n",
    "# exact solution\n",
    "p = sin(2*pi*x)*sin(2*pi*y)\n",
    "\n",
    "ux = diff(p, x)\n",
    "uy = diff(p, y)\n",
    "force = -diff(ux, x) - diff(uy, y)\n",
    "\n",
    "# Manufactured solution\n",
    "print(to_prm(\" set Exact solution = \", str(ux)+\"; \"+str(uy)+\"; \"+str(p)))\n",
    "print(to_prm(\" set Forcing term = \", '0; 0; ' + str(force)))"
   ]
  },
  {
   "cell_type": "code",
   "execution_count": null,
   "metadata": {},
   "outputs": [],
   "source": []
  }
 ],
 "metadata": {
  "kernelspec": {
   "display_name": "Python 3",
   "language": "python",
   "name": "python3"
  },
  "language_info": {
   "codemirror_mode": {
    "name": "ipython",
    "version": 3
   },
   "file_extension": ".py",
   "mimetype": "text/x-python",
   "name": "python",
   "nbconvert_exporter": "python",
   "pygments_lexer": "ipython3",
   "version": "3.11.5"
  }
 },
 "nbformat": 4,
 "nbformat_minor": 2
}
